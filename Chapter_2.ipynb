{
 "cells": [
  {
   "attachments": {},
   "cell_type": "markdown",
   "id": "0ed53ca9",
   "metadata": {},
   "source": [
    "$\\large{\\text{2. 金融データ解析・機械学習の環境構築}}$"
   ]
  },
  {
   "attachments": {},
   "cell_type": "markdown",
   "id": "cf456fa9",
   "metadata": {},
   "source": [
    "自然言語処理関連ツール\n",
    "\n",
    "・MeCab...京都大学とNTTコミュニケーション科学基礎研究所の共同研究で開発されたオープンソースの形態素解析エンジン。言語、辞書、コーパスに依存しない汎用性と、条件付き確率場（Conditional Random Fields：CRF）に基づいたパラメータ推定を用いた高い解析精度を特徴としている。\n",
    "\n",
    "・IPAdic（mecab-ipadic）...MeCabに同梱されていたIPAdic（IPA辞書）。デフォルトの辞書だが、2007年以降、IPA辞書は更新されていない。また、デフォルトのインストールでは文字コードがEUC-JPとなっているので、UTF-8にしたい場合は指定する必要がある。\n",
    "\n",
    "・NEologd（mecab-ipadic-NEologd）...多数のWeb上の言語資源から得た単語を追加することでカスタマイズしたMeCab用のシステム辞書。IPA辞書では正しく分割できない固有表現でも適切に分割できる表現が辞書として収録されており、新語にも強い。\n",
    "\n",
    "・CaboCha...サポートベクターマシン（SVM）に基づいた日本語の係り受け解析器である。係り受け解析とは、主語―述語、連体修飾語―体言などの係り受け関係を解析すること。 日本語表現の文節同士にある関係を文法ルールや機械学習を取り入れたアルゴリズムに基づいて解析する。\n",
    "\n",
    "・CRF++...CRFを基に、CaboChaを使用するために必要なツール。\n",
    "\n",
    "・zenhan...日本語のように、半角と全角はコンピュータ上は異なる文字として認識される。テキストマイニングにおいて、単語の前処理として半角または全角に統一する必要があるが、本ライブラリでその変換を実施する。他に、mojimojiなどがある。\n",
    "\n",
    "・xpdf...オープンソースのPDFビューワ。付属ツールのpdftotextを用いてpdfファイルからテキストを抽出する。"
   ]
  },
  {
   "attachments": {},
   "cell_type": "markdown",
   "id": "d846a8f7",
   "metadata": {},
   "source": [
    "公式HP：http://taku910.github.io/mecab/#download"
   ]
  },
  {
   "attachments": {},
   "cell_type": "markdown",
   "id": "48adf4f2",
   "metadata": {},
   "source": [
    "・Mecabのインストール\n",
    "\n",
    "公式サイトからmecab-0.996.tar.gzを、インストール場所Aにダウンロード\n",
    "\n",
    "-----------------------------------------------\n",
    "\n",
    "$ cd A\n",
    "\n",
    "$ tar zxvf mecab-0.996.tar.gz\n",
    "\n",
    "$ cd ./mecab-0.996\n",
    "\n",
    "$ ./configure --with-charset=utf8（UTF-8にしたい場合）\n",
    "\n",
    "$ make\n",
    "\n",
    "$ make check\n",
    "\n",
    "$ sudo make install\n",
    "\n",
    "-----------------------------------------------\n",
    "\n",
    "/usr/local/lib/mecab あたりにフォルダができてたらOK"
   ]
  },
  {
   "attachments": {},
   "cell_type": "markdown",
   "id": "03ca75fb",
   "metadata": {},
   "source": [
    "・IPAdicのインストール\n",
    "\n",
    "公式サイトからmecab-ipadic-2.7.0-20070801.tar.gzを、インストール場所Aにダウンロード\n",
    "\n",
    "-----------------------------------------------\n",
    "\n",
    "$ cd A\n",
    "\n",
    "$ tar zxvf mecab-ipadic-2.7.0-20070801.tar.gz\n",
    "\n",
    "$ cd ./mecab-ipadic-2.7.0-20070801\n",
    "\n",
    "$ ./configure --with-charset=utf8（UTF-8にしたい場合）\n",
    "\n",
    "$ make\n",
    "\n",
    "$ sudo make install\n",
    "\n",
    "-----------------------------------------------\n",
    "\n",
    "/usr/local/lib/mecab/dic/ipadic あたりにフォルダができてたらOK（辞書自体は2007年で更新されていない）"
   ]
  },
  {
   "attachments": {},
   "cell_type": "markdown",
   "id": "a9f50db4",
   "metadata": {},
   "source": [
    "・NEologdのインストール\n",
    "\n",
    "インストール場所をAとする。\n",
    "\n",
    "-----------------------------------------------\n",
    "\n",
    "$ cd A\n",
    "\n",
    "$ git clone --depth 1 https://github.com/neologd/mecab-ipadic-neologd.git\n",
    "\n",
    "$ cd ./mecab-ipadic-neologd\n",
    "\n",
    "$ ./bin/install-mecab-ipadic-neologd -n\n",
    "\n",
    "-----------------------------------------------\n",
    "\n",
    "/usr/local/lib/mecab/dic/mecab-ipadic-neologd あたりにフォルダができてたらOK"
   ]
  },
  {
   "attachments": {},
   "cell_type": "markdown",
   "id": "faf68cb4",
   "metadata": {},
   "source": [
    "・CRF++のインストール\n",
    "\n",
    "公式サイトからCRF++-0.58.tar.gzを、インストール場所Aにダウンロード\n",
    "\n",
    "-----------------------------------------------\n",
    "\n",
    "$ cd A\n",
    "\n",
    "$ tar zxvf CRF++-0.58.tar.gz\n",
    "\n",
    "$ cd ./CRF++-0.58\n",
    "\n",
    "$ ./configure\n",
    "\n",
    "$ make\n",
    "\n",
    "$ sudo make install\n",
    "\n",
    "-----------------------------------------------\n",
    "\n",
    "CaboChaがインストールできたらOK"
   ]
  },
  {
   "attachments": {},
   "cell_type": "markdown",
   "id": "ff88bca0",
   "metadata": {},
   "source": [
    "・CaboChaのインストール\n",
    "\n",
    "公式サイトからcabocha-0.69.tar.bzを、インストール場所Aにダウンロード\n",
    "\n",
    "-----------------------------------------------\n",
    "\n",
    "$ cd A\n",
    "\n",
    "$ tar zxvf cabocha-0.69.tar.bz\n",
    "\n",
    "$ cd ./cabocha-0.69\n",
    "\n",
    "$ ./configure --with-charset=utf8（UTF-8にしたい場合）\n",
    "\n",
    "$ make\n",
    "\n",
    "$ make check\n",
    "\n",
    "$ sudo make install\n",
    "\n",
    "-----------------------------------------------\n",
    "\n",
    "/usr/local/lib/cabocha あたりにフォルダができてたらOK"
   ]
  },
  {
   "attachments": {},
   "cell_type": "markdown",
   "id": "4c55d43b",
   "metadata": {},
   "source": [
    "・Pythonライブラリのインストール\n",
    "\n",
    "pip でインストールできる。\n",
    "\n",
    "-----------------------------------------------\n",
    "$ pip install mecab-python3 cabocha-python zenhan mojimoji"
   ]
  }
 ],
 "metadata": {
  "kernelspec": {
   "display_name": "Python 3.7.13 ('base')",
   "language": "python",
   "name": "python3"
  },
  "language_info": {
   "codemirror_mode": {
    "name": "ipython",
    "version": 3
   },
   "file_extension": ".py",
   "mimetype": "text/x-python",
   "name": "python",
   "nbconvert_exporter": "python",
   "pygments_lexer": "ipython3",
   "version": "3.7.13"
  },
  "vscode": {
   "interpreter": {
    "hash": "40d3a090f54c6569ab1632332b64b2c03c39dcf918b08424e98f38b5ae0af88f"
   }
  }
 },
 "nbformat": 4,
 "nbformat_minor": 5
}
